%pylab inline
import torch

x = torch.rand(1000, 2)
scatter(*x.numpy().T)
axis('equal')


x_in_circle = (x**2).sum(1) < 1

def show(y):
  scatter(*x.numpy().T, c=y.numpy())
  axis('equal')

show(x_in_circle)


weights = torch.as_tensor([1,1], dtype=torch.float)
bias = torch.as_tensor(-1, dtype=torch.float)

def classify(x, weights, bias):
  logit = (x * weights[None,:]).sum(1) + bias
  return logit > 0

def accuracy(pred_y):
  return (pred_y == x_in_circle).float().mean()

pred_y = classify(x, weights, bias)
show(pred_y)
print('accuracy = ', accuracy(pred_y))


weights = torch.as_tensor([-1,-1], dtype=torch.float)
bias = torch.as_tensor(1, dtype=torch.float)
pred_y = classify(x, weights, bias)
show(pred_y)
print('accuracy = ', accuracy(pred_y))


def predict(x, weights, bias):
  logit = (x * weights[None,:]).sum(1) + bias
  return 1 / (1 + (-logit).exp())

def loss(p_y):
  return -(x_in_circle.float()    * (p_y+1e-10).log() +
          (1-x_in_circle.float()) * (1-p_y+1e-10).log()).mean()

p_y = predict(x, weights, bias)
show(p_y)
print('loss = ', loss(p_y))


%load_ext tensorboard
%tensorboard --logdir logs
import torch
import torch.utils.tensorboard as tb
import numpy as np
writer = tb.SummaryWriter(flush_secs=1)



# TODO: Setup logging
# TODO: Setup the model
weights = torch.as_tensor([-1,-1], dtype=torch.float)
bias = torch.as_tensor(1, dtype=torch.float)

learning_rate = 0.5

y = x_in_circle.float()

for iteration in range(5000):
  # TODO: Predicting the labels (and probabilities)
  pred_y = classify(x, weights, bias)
  p_y = predict(x, weights, bias)

  # TODO: Compute the loss
  l = loss(p_y)

  # TODO: Logging
  writer.add_scalar('loss', l, global_step=iteration)
  writer.add_scalar('accuracy', accuracy(pred_y), global_step=iteration)

  if iteration % 10 == 0:
    fig = figure()
    show(pred_y)
    writer.add_figure('pred_y', fig, global_step=iteration)
    del fig

  # TODO: Compute the gradient
  gradient_l_f = p_y - y
  gradient_b = gradient_l_f.mean(0)
  gradient_w = (gradient_l_f[:,None] * x).mean(0)

  # TODO: Update weight using gradient descent
  weights -= learning_rate * gradient_w
  bias    -= learning_rate * gradient_b

show(pred_y)

%tensorboard --logdir=runs
